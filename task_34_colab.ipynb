{
  "nbformat": 4,
  "nbformat_minor": 0,
  "metadata": {
    "colab": {
      "provenance": []
    },
    "kernelspec": {
      "name": "python3",
      "display_name": "Python 3"
    },
    "language_info": {
      "name": "python"
    }
  },
  "cells": [
    {
      "cell_type": "markdown",
      "source": [
        "## Freedom Ranking for Different Countries\n",
        "\n",
        "You can get the dataset from [here](https://drive.google.com/drive/folders/1wr0J571rlfexEJ4-de6_tz1QvU-cJ0df?usp=share_link).\n",
        "\n",
        "Some feature details of the dataset:\n",
        "\n",
        "| Feature | Description |\n",
        "| :--: | :-- |\n",
        "| A | Electoral Process |\n",
        "| B | Political Pluralism and Participation |\n",
        "| C | Functioning of Government |\n",
        "| D | Freedom of Expression and Belief |\n",
        "| E | Associational and Organizational Rights |\n",
        "| F | Rule of Law |\n",
        "| G | Personal Autonomy and Individual Rights |\n",
        "| CL | Civil Liberties Scores |\n",
        "| Status | F=Free, PF=Partly Free, NF=Not Free |\n",
        "\n",
        "\n",
        "###`Q-1` Find out top 10 countries' which have maximum A and D values.\n",
        "\n",
        "\n",
        "###`Q-2` Find out highest CL value for 2020 for every region. Also sort the result in descending order. Also display the CL values in descending order."
      ],
      "metadata": {
        "id": "kbYXPYQ4pVyp"
      }
    },
    {
      "cell_type": "code",
      "source": [],
      "metadata": {
        "id": "-s_pPg_1pWyQ"
      },
      "execution_count": null,
      "outputs": []
    },
    {
      "cell_type": "markdown",
      "source": [
        "## Dataset\n",
        "Data Link-> https://drive.google.com/drive/folders/1bGgNTDy5L_IodNcGHdB_SNCkUI5MUjmY?usp=share_link\n",
        "Four Tables:\n",
        "* Customer\n",
        "* Employee\n",
        "* Sales\n",
        "* Products\n",
        "\n",
        "###`Q-3` Find top-5 most sold products.\n",
        "\n",
        "### `Q-4:` Find sales man who sold most no of products.\n",
        "\n",
        "### `Q-5:` Sales man name who has most no of unique customer.\n",
        "\n",
        "###`Q-6:` Sales man who has generated most revenue. Show top 5.\n",
        "\n",
        "###`Q-7:` List all customers who have made more than 10 purchases.\n",
        "\n",
        "### `Q-8` : List all salespeople who have made sales to more than 5 customers.\n",
        "\n",
        "### `Q-9:` List all pairs of customers who have made purchases with the same salesperson.\n",
        "\n"
      ],
      "metadata": {
        "id": "62JBrjrmpcn-"
      }
    },
    {
      "cell_type": "code",
      "source": [
        "# QUESTION 1)."
      ],
      "metadata": {
        "id": "VA90jn6Zpznc"
      },
      "execution_count": 1,
      "outputs": []
    },
    {
      "cell_type": "code",
      "source": [
        "# SELECT * FROM (SELECT Country,A FROM campusx.country_ab\n",
        "# ORDER BY A DESC LIMIT 10) A\n",
        "# LEFT JOIN\n",
        "# (SELECT Country,D FROM campusx.country_cd\n",
        "# ORDER BY D DESC LIMIT 10) D\n",
        "# ON A.Country = D.Country;\n",
        "\n",
        "# SELECT * FROM (SELECT Country,A FROM campusx.country_ab\n",
        "# ORDER BY A DESC LIMIT 10) A\n",
        "# RIGHT JOIN\n",
        "# (SELECT Country,D FROM campusx.country_cd\n",
        "# ORDER BY D DESC LIMIT 10) D\n",
        "# ON A.Country = D.Country;\n",
        "\n",
        "# SELECT * FROM (SELECT Country,A FROM campusx.country_ab\n",
        "# ORDER BY A DESC LIMIT 10) A\n",
        "# UNION\n",
        "# (SELECT Country,D FROM campusx.country_cd\n",
        "# ORDER BY D DESC LIMIT 10) D\n",
        "# ON A.Country = D.Country"
      ],
      "metadata": {
        "id": "hS1xbWPxHYMU"
      },
      "execution_count": 2,
      "outputs": []
    },
    {
      "cell_type": "code",
      "source": [
        "# QUESTION 2)."
      ],
      "metadata": {
        "id": "PWrcNuGKHsy7"
      },
      "execution_count": 3,
      "outputs": []
    },
    {
      "cell_type": "code",
      "source": [
        "# SELECT Region,t1.Edition, MAX(CL) AS 'Maxclvalue' FROM campusx.country_efg t1\n",
        "# JOIN campusx.country_cl t2\n",
        "# ON t1.Country = t2.Country\n",
        "# WHERE t1.Edition = 2020\n",
        "# GROUP BY Region\n",
        "# ORDER BY Maxclvalue DESC\n"
      ],
      "metadata": {
        "id": "Rx0vnJDXHuyY"
      },
      "execution_count": 4,
      "outputs": []
    },
    {
      "cell_type": "code",
      "source": [
        "# QUESTION 3)."
      ],
      "metadata": {
        "id": "rMxhtx-xLKCM"
      },
      "execution_count": 6,
      "outputs": []
    },
    {
      "cell_type": "code",
      "source": [
        "# SELECT NAME,SUM(Quantity) AS 'total_quantity' FROM company.sales1 t1\n",
        "# JOIN company.products t2\n",
        "# ON t1.ProductID = t2.ProductID\n",
        "# GROUP BY t1.ProductID\n",
        "# ORDER BY total_quantity DESC LIMIT 5"
      ],
      "metadata": {
        "id": "Ate59P-dLL3J"
      },
      "execution_count": null,
      "outputs": []
    }
  ]
}