{
 "cells": [
  {
   "cell_type": "markdown",
   "id": "aac247b1",
   "metadata": {},
   "source": [
    "# SQL Queries in Jupyter Notebook\n",
    "\n",
    "This notebook converts the provided SQL file into executable Python cells using `sqlite3`.\n",
    "Each section is grouped by SQL functions/topics with explanation headings.\n"
   ]
  },
  {
   "cell_type": "code",
   "execution_count": null,
   "id": "8bf81869",
   "metadata": {},
   "outputs": [],
   "source": [
    "import sqlite3\n",
    "import pandas as pd\n",
    "\n",
    "# Connect to SQLite (creates in-memory DB)\n",
    "conn = sqlite3.connect(\":memory:\")\n",
    "\n",
    "# Helper function to run queries\n",
    "def run_query(query):\n",
    "    try:\n",
    "        return pd.read_sql_query(query, conn)\n",
    "    except Exception as e:\n",
    "        print(\"Error:\", e)\n"
   ]
  },
  {
   "cell_type": "markdown",
   "id": "a5792a89",
   "metadata": {},
   "source": [
    "## General Query\n",
    "```sql\n",
    "SELECT * FROM campusx.movies;\n",
    "```"
   ]
  },
  {
   "cell_type": "code",
   "execution_count": null,
   "id": "a8a6e03e",
   "metadata": {},
   "outputs": [],
   "source": [
    "run_query('''SELECT * FROM campusx.movies;''')"
   ]
  },
  {
   "cell_type": "markdown",
   "id": "6078e83b",
   "metadata": {},
   "source": [
    "## General Query\n",
    "```sql\n",
    "SELECT * FROM campusx.ipl;\n",
    "```"
   ]
  },
  {
   "cell_type": "code",
   "execution_count": null,
   "id": "edaa25a9",
   "metadata": {},
   "outputs": [],
   "source": [
    "run_query('''SELECT * FROM campusx.ipl;''')"
   ]
  },
  {
   "cell_type": "markdown",
   "id": "c31dc096",
   "metadata": {},
   "source": [
    "## General Query\n",
    "```sql\n",
    "SELECT * FROM campusx.movies;\n",
    "```"
   ]
  },
  {
   "cell_type": "code",
   "execution_count": null,
   "id": "f021cbb1",
   "metadata": {},
   "outputs": [],
   "source": [
    "run_query('''SELECT * FROM campusx.movies;''')"
   ]
  },
  {
   "cell_type": "markdown",
   "id": "c6be048f",
   "metadata": {},
   "source": [
    "## String Function - RPAD\n",
    "```sql\n",
    "SELECT RPAD(\"8888888888\",13,\"+91\");\n",
    "```"
   ]
  },
  {
   "cell_type": "code",
   "execution_count": null,
   "id": "9437049d",
   "metadata": {},
   "outputs": [],
   "source": [
    "run_query('''SELECT RPAD(\"8888888888\",13,\"+91\");''')"
   ]
  },
  {
   "cell_type": "markdown",
   "id": "16cfc9cf",
   "metadata": {},
   "source": [
    "## String Function - RPAD\n",
    "```sql\n",
    "SELECT RPAD(\"88888888888\",13,\"+91\");\n",
    "```"
   ]
  },
  {
   "cell_type": "code",
   "execution_count": null,
   "id": "43e04667",
   "metadata": {},
   "outputs": [],
   "source": [
    "run_query('''SELECT RPAD(\"88888888888\",13,\"+91\");''')"
   ]
  },
  {
   "cell_type": "markdown",
   "id": "43bafbf1",
   "metadata": {},
   "source": [
    "## String Function - LPAD\n",
    "```sql\n",
    "SELECT LPAD(\"8888888888\",13,'+91');\n",
    "```"
   ]
  },
  {
   "cell_type": "code",
   "execution_count": null,
   "id": "658dd2bf",
   "metadata": {},
   "outputs": [],
   "source": [
    "run_query('''SELECT LPAD(\"8888888888\",13,'+91');''')"
   ]
  },
  {
   "cell_type": "markdown",
   "id": "187323e7",
   "metadata": {},
   "source": [
    "## String Function - LOCATE\n",
    "```sql\n",
    "SELECT LOCATE(\"w\",\"superwomen\");\n",
    "```"
   ]
  },
  {
   "cell_type": "code",
   "execution_count": null,
   "id": "ff1d45eb",
   "metadata": {},
   "outputs": [],
   "source": [
    "run_query('''SELECT LOCATE(\"w\",\"superwomen\");''')"
   ]
  },
  {
   "cell_type": "markdown",
   "id": "e5d28df9",
   "metadata": {},
   "source": [
    "## String Function - LOCATE\n",
    "```sql\n",
    "SELECT LOCATE(\"w\",\"superwomen\");\n",
    "```"
   ]
  },
  {
   "cell_type": "code",
   "execution_count": null,
   "id": "eefdfce2",
   "metadata": {},
   "outputs": [],
   "source": [
    "run_query('''SELECT LOCATE(\"w\",\"superwomen\");''')"
   ]
  },
  {
   "cell_type": "markdown",
   "id": "499dae76",
   "metadata": {},
   "source": [
    "## String Function - LOCATE\n",
    "```sql\n",
    "SELECT LOCATE(\"w\",\"wonderwomen\");\n",
    "```"
   ]
  },
  {
   "cell_type": "code",
   "execution_count": null,
   "id": "820aae6d",
   "metadata": {},
   "outputs": [],
   "source": [
    "run_query('''SELECT LOCATE(\"w\",\"wonderwomen\");''')"
   ]
  },
  {
   "cell_type": "markdown",
   "id": "00b9c84e",
   "metadata": {},
   "source": [
    "## String Function - STRCMP\n",
    "```sql\n",
    "SELECT STRCMP(\"Delhi\",\"Delhi\");\n",
    "```"
   ]
  },
  {
   "cell_type": "code",
   "execution_count": null,
   "id": "5611915c",
   "metadata": {},
   "outputs": [],
   "source": [
    "run_query('''SELECT STRCMP(\"Delhi\",\"Delhi\");''')"
   ]
  },
  {
   "cell_type": "markdown",
   "id": "edac75e4",
   "metadata": {},
   "source": [
    "## String Function - STRCMP\n",
    "```sql\n",
    "SELECT STRCMP(\"Mumbai\",\"Delhi\");\n",
    "```"
   ]
  },
  {
   "cell_type": "code",
   "execution_count": null,
   "id": "6920df2a",
   "metadata": {},
   "outputs": [],
   "source": [
    "run_query('''SELECT STRCMP(\"Mumbai\",\"Delhi\");''')"
   ]
  },
  {
   "cell_type": "markdown",
   "id": "0af80945",
   "metadata": {},
   "source": [
    "## String Function - STRCMP\n",
    "```sql\n",
    "SELECT STRCMP(\"Mumbai\",\"Delhi\");\n",
    "```"
   ]
  },
  {
   "cell_type": "code",
   "execution_count": null,
   "id": "70364ab5",
   "metadata": {},
   "outputs": [],
   "source": [
    "run_query('''SELECT STRCMP(\"Mumbai\",\"Delhi\");''')"
   ]
  },
  {
   "cell_type": "markdown",
   "id": "91e051f3",
   "metadata": {},
   "source": [
    "## String Function - STRCMP\n",
    "```sql\n",
    "SELECT STRCMP(\"Delhi\",\"Mumbai\");\n",
    "```"
   ]
  },
  {
   "cell_type": "code",
   "execution_count": null,
   "id": "a5e99f5c",
   "metadata": {},
   "outputs": [],
   "source": [
    "run_query('''SELECT STRCMP(\"Delhi\",\"Mumbai\");''')"
   ]
  },
  {
   "cell_type": "markdown",
   "id": "767a7369",
   "metadata": {},
   "source": [
    "## String Function - SUBSTRING_INDEX\n",
    "```sql\n",
    "SELECT SUBSTRING_INDEX(\"www.campusx.in\",\".\",2);\n",
    "```"
   ]
  },
  {
   "cell_type": "code",
   "execution_count": null,
   "id": "24e9a656",
   "metadata": {},
   "outputs": [],
   "source": [
    "run_query('''SELECT SUBSTRING_INDEX(\"www.campusx.in\",\".\",2);''')"
   ]
  },
  {
   "cell_type": "markdown",
   "id": "56d5511f",
   "metadata": {},
   "source": [
    "## String Function - SUBSTRING_INDEX\n",
    "```sql\n",
    "SELECT SUBSTRING_INDEX(\"www.campusx.in\",\".\",1);\n",
    "```"
   ]
  },
  {
   "cell_type": "code",
   "execution_count": null,
   "id": "ed186bdb",
   "metadata": {},
   "outputs": [],
   "source": [
    "run_query('''SELECT SUBSTRING_INDEX(\"www.campusx.in\",\".\",1);''')"
   ]
  },
  {
   "cell_type": "markdown",
   "id": "176e7e8b",
   "metadata": {},
   "source": [
    "## String Function - LTRIM\n",
    "```sql\n",
    "SELECT LTRIM(\"       NIKHIL        \");\n",
    "```"
   ]
  },
  {
   "cell_type": "code",
   "execution_count": null,
   "id": "06180fb8",
   "metadata": {},
   "outputs": [],
   "source": [
    "run_query('''SELECT LTRIM(\"       NIKHIL        \");''')"
   ]
  },
  {
   "cell_type": "markdown",
   "id": "31864f1a",
   "metadata": {},
   "source": [
    "## String Function - LTRIM\n",
    "```sql\n",
    "SELECT LTRIM(\"...................NIKHIL.............\");\n",
    "```"
   ]
  },
  {
   "cell_type": "code",
   "execution_count": null,
   "id": "e524c2df",
   "metadata": {},
   "outputs": [],
   "source": [
    "run_query('''SELECT LTRIM(\"...................NIKHIL.............\");''')"
   ]
  },
  {
   "cell_type": "markdown",
   "id": "32cc1f2b",
   "metadata": {},
   "source": [
    "## String Function - RTRIM\n",
    "```sql\n",
    "SELECT RTRIM(\"...................NIKHIL................\");\n",
    "```"
   ]
  },
  {
   "cell_type": "code",
   "execution_count": null,
   "id": "21f71e83",
   "metadata": {},
   "outputs": [],
   "source": [
    "run_query('''SELECT RTRIM(\"...................NIKHIL................\");''')"
   ]
  },
  {
   "cell_type": "markdown",
   "id": "97ba5eb0",
   "metadata": {},
   "source": [
    "## String Function - TRIM\n",
    "```sql\n",
    "SELECT TRIM(\"               NIKHIL           \");\n",
    "```"
   ]
  },
  {
   "cell_type": "code",
   "execution_count": null,
   "id": "dc64f0d4",
   "metadata": {},
   "outputs": [],
   "source": [
    "run_query('''SELECT TRIM(\"               NIKHIL           \");''')"
   ]
  },
  {
   "cell_type": "markdown",
   "id": "7bfb9f6c",
   "metadata": {},
   "source": [
    "## String Function - TRIM\n",
    "```sql\n",
    "SELECT TRIM(\"               NIKHIL           \");\n",
    "```"
   ]
  },
  {
   "cell_type": "code",
   "execution_count": null,
   "id": "c8c33ec6",
   "metadata": {},
   "outputs": [],
   "source": [
    "run_query('''SELECT TRIM(\"               NIKHIL           \");''')"
   ]
  },
  {
   "cell_type": "markdown",
   "id": "097c6f10",
   "metadata": {},
   "source": [
    "## String Function - TRIM\n",
    "```sql\n",
    "SELECT TRIM(\"               NIKHIL           \");\n",
    "```"
   ]
  },
  {
   "cell_type": "code",
   "execution_count": null,
   "id": "c8fe949f",
   "metadata": {},
   "outputs": [],
   "source": [
    "run_query('''SELECT TRIM(\"               NIKHIL           \");''')"
   ]
  },
  {
   "cell_type": "markdown",
   "id": "43ab33e9",
   "metadata": {},
   "source": [
    "## String Function - REPEAT\n",
    "```sql\n",
    "SELECT REPEAT(name,3) FROM movies;\n",
    "```"
   ]
  },
  {
   "cell_type": "code",
   "execution_count": null,
   "id": "334baab1",
   "metadata": {},
   "outputs": [],
   "source": [
    "run_query('''SELECT REPEAT(name,3) FROM movies;''')"
   ]
  },
  {
   "cell_type": "markdown",
   "id": "cb8927fe",
   "metadata": {},
   "source": [
    "## String Function - REPEAT\n",
    "```sql\n",
    "SELECT REPEAT(name,3) FROM movies;\n",
    "```"
   ]
  },
  {
   "cell_type": "code",
   "execution_count": null,
   "id": "0955941f",
   "metadata": {},
   "outputs": [],
   "source": [
    "run_query('''SELECT REPEAT(name,3) FROM movies;''')"
   ]
  },
  {
   "cell_type": "markdown",
   "id": "988c1713",
   "metadata": {},
   "source": [
    "## String Function - REPEAT\n",
    "```sql\n",
    "SELECT REPEAT(name,3) FROM movies;\n",
    "```"
   ]
  },
  {
   "cell_type": "code",
   "execution_count": null,
   "id": "aa22aa6e",
   "metadata": {},
   "outputs": [],
   "source": [
    "run_query('''SELECT REPEAT(name,3) FROM movies;''')"
   ]
  },
  {
   "cell_type": "markdown",
   "id": "77a0ef49",
   "metadata": {},
   "source": [
    "## String Function - RIGHT\n",
    "```sql\n",
    "SELECT name,RIGHT(name,3)FROM movies;\n",
    "```"
   ]
  },
  {
   "cell_type": "code",
   "execution_count": null,
   "id": "4caa76b9",
   "metadata": {},
   "outputs": [],
   "source": [
    "run_query('''SELECT name,RIGHT(name,3)FROM movies;''')"
   ]
  },
  {
   "cell_type": "markdown",
   "id": "ed64d5ea",
   "metadata": {},
   "source": [
    "## String Function - LEFT\n",
    "```sql\n",
    "SELECT name,LEFT(name,3)FROM movies;\n",
    "```"
   ]
  },
  {
   "cell_type": "code",
   "execution_count": null,
   "id": "78adb361",
   "metadata": {},
   "outputs": [],
   "source": [
    "run_query('''SELECT name,LEFT(name,3)FROM movies;''')"
   ]
  },
  {
   "cell_type": "markdown",
   "id": "484e54e5",
   "metadata": {},
   "source": [
    "## String Function - INSERT\n",
    "```sql\n",
    "SELECT name,INSERT(\"Titanic\",3,2,\"TRY\") FROM movies;\n",
    "```"
   ]
  },
  {
   "cell_type": "code",
   "execution_count": null,
   "id": "eda82a46",
   "metadata": {},
   "outputs": [],
   "source": [
    "run_query('''SELECT name,INSERT(\"Titanic\",3,2,\"TRY\") FROM movies;''')"
   ]
  },
  {
   "cell_type": "markdown",
   "id": "0bee7d62",
   "metadata": {},
   "source": [
    "## String Function - INSERT\n",
    "```sql\n",
    "SELECT name,INSERT(\"Titanic\",3,2,\"TRY\") FROM marks;\n",
    "```"
   ]
  },
  {
   "cell_type": "code",
   "execution_count": null,
   "id": "62fdee10",
   "metadata": {},
   "outputs": [],
   "source": [
    "run_query('''SELECT name,INSERT(\"Titanic\",3,2,\"TRY\") FROM marks;''')"
   ]
  },
  {
   "cell_type": "markdown",
   "id": "4609e780",
   "metadata": {},
   "source": [
    "## String Function - INSERT\n",
    "```sql\n",
    "SELECT name,INSERT(\"Titanic\",3,2,\"TRY\");\n",
    "```"
   ]
  },
  {
   "cell_type": "code",
   "execution_count": null,
   "id": "816e1504",
   "metadata": {},
   "outputs": [],
   "source": [
    "run_query('''SELECT name,INSERT(\"Titanic\",3,2,\"TRY\");''')"
   ]
  },
  {
   "cell_type": "markdown",
   "id": "348c9514",
   "metadata": {},
   "source": [
    "## String Function - INSERT\n",
    "```sql\n",
    "SELECT INSERT(\"HELLO\",3,2,\"INDIA\");\n",
    "```"
   ]
  },
  {
   "cell_type": "code",
   "execution_count": null,
   "id": "4571a1c0",
   "metadata": {},
   "outputs": [],
   "source": [
    "run_query('''SELECT INSERT(\"HELLO\",3,2,\"INDIA\");''')"
   ]
  },
  {
   "cell_type": "markdown",
   "id": "c7c891ee",
   "metadata": {},
   "source": [
    "## String Function - INSERT\n",
    "```sql\n",
    "SELECT INSERT(\"HELLO\",3,0,\"INDIA\");\n",
    "```"
   ]
  },
  {
   "cell_type": "code",
   "execution_count": null,
   "id": "bc667ffd",
   "metadata": {},
   "outputs": [],
   "source": [
    "run_query('''SELECT INSERT(\"HELLO\",3,0,\"INDIA\");''')"
   ]
  },
  {
   "cell_type": "markdown",
   "id": "2bf77a76",
   "metadata": {},
   "source": [
    "## String Function - INSERT\n",
    "```sql\n",
    "SELECT INSERT(\"HELLO\",0,0,\"INDIA\");\n",
    "```"
   ]
  },
  {
   "cell_type": "code",
   "execution_count": null,
   "id": "c1807923",
   "metadata": {},
   "outputs": [],
   "source": [
    "run_query('''SELECT INSERT(\"HELLO\",0,0,\"INDIA\");''')"
   ]
  },
  {
   "cell_type": "markdown",
   "id": "1a3ff619",
   "metadata": {},
   "source": [
    "## String Function - INSERT\n",
    "```sql\n",
    "SELECT INSERT(\"HELLO\",\"INDIA\");\n",
    "```"
   ]
  },
  {
   "cell_type": "code",
   "execution_count": null,
   "id": "39faf372",
   "metadata": {},
   "outputs": [],
   "source": [
    "run_query('''SELECT INSERT(\"HELLO\",\"INDIA\");''')"
   ]
  },
  {
   "cell_type": "markdown",
   "id": "7d3d8cfe",
   "metadata": {},
   "source": [
    "## String Function - INSERT\n",
    "```sql\n",
    "SELECT INSERT(\"HELLO\",2,0,\"INDIA\");\n",
    "```"
   ]
  },
  {
   "cell_type": "code",
   "execution_count": null,
   "id": "d02b25a2",
   "metadata": {},
   "outputs": [],
   "source": [
    "run_query('''SELECT INSERT(\"HELLO\",2,0,\"INDIA\");''')"
   ]
  },
  {
   "cell_type": "markdown",
   "id": "20eb0191",
   "metadata": {},
   "source": [
    "## String Function - INSERT\n",
    "```sql\n",
    "SELECT INSERT(\"HELLO\",2,1,\"INDIA\");\n",
    "```"
   ]
  },
  {
   "cell_type": "code",
   "execution_count": null,
   "id": "c729b015",
   "metadata": {},
   "outputs": [],
   "source": [
    "run_query('''SELECT INSERT(\"HELLO\",2,1,\"INDIA\");''')"
   ]
  },
  {
   "cell_type": "markdown",
   "id": "29f86784",
   "metadata": {},
   "source": [
    "## String Function - LENGTH\n",
    "```sql\n",
    "SELECT name,LENGTH(name),CHAR_LENGTH(name) FROM movies\n",
    "```"
   ]
  },
  {
   "cell_type": "code",
   "execution_count": null,
   "id": "ab222bdc",
   "metadata": {},
   "outputs": [],
   "source": [
    "run_query('''SELECT name,LENGTH(name),CHAR_LENGTH(name) FROM movies''')"
   ]
  },
  {
   "cell_type": "markdown",
   "id": "b3fd465e",
   "metadata": {},
   "source": [
    "## String Function - LENGTH\n",
    "```sql\n",
    "WHERE LENGTH(name) != CHAR_LENGTH(name);\n",
    "```"
   ]
  },
  {
   "cell_type": "code",
   "execution_count": null,
   "id": "ca8774b4",
   "metadata": {},
   "outputs": [],
   "source": [
    "run_query('''WHERE LENGTH(name) != CHAR_LENGTH(name);''')"
   ]
  },
  {
   "cell_type": "markdown",
   "id": "0e0d61d9",
   "metadata": {},
   "source": [
    "## String Function - LENGTH\n",
    "```sql\n",
    "SELECT name,LENGTH(name),CHAR_LENGTH(name) FROM movies\n",
    "```"
   ]
  },
  {
   "cell_type": "code",
   "execution_count": null,
   "id": "b0b7baa3",
   "metadata": {},
   "outputs": [],
   "source": [
    "run_query('''SELECT name,LENGTH(name),CHAR_LENGTH(name) FROM movies''')"
   ]
  },
  {
   "cell_type": "markdown",
   "id": "2e17aa6d",
   "metadata": {},
   "source": [
    "## String Function - LENGTH\n",
    "```sql\n",
    "WHERE LENGTH(name) != CHAR_LENGTH(name);\n",
    "```"
   ]
  },
  {
   "cell_type": "code",
   "execution_count": null,
   "id": "3620e3de",
   "metadata": {},
   "outputs": [],
   "source": [
    "run_query('''WHERE LENGTH(name) != CHAR_LENGTH(name);''')"
   ]
  },
  {
   "cell_type": "markdown",
   "id": "8405cd8a",
   "metadata": {},
   "source": [
    "## String Function - LENGTH\n",
    "```sql\n",
    "SELECT name,LENGTH(name),CHAR_LENGTH(name) FROM movies;\n",
    "```"
   ]
  },
  {
   "cell_type": "code",
   "execution_count": null,
   "id": "157ba052",
   "metadata": {},
   "outputs": [],
   "source": [
    "run_query('''SELECT name,LENGTH(name),CHAR_LENGTH(name) FROM movies;''')"
   ]
  },
  {
   "cell_type": "markdown",
   "id": "b7840c63",
   "metadata": {},
   "source": [
    "## String Function - LENGTH\n",
    "```sql\n",
    "SELECT name,LENGTH(name) FROM movies;\n",
    "```"
   ]
  },
  {
   "cell_type": "code",
   "execution_count": null,
   "id": "dcd294a5",
   "metadata": {},
   "outputs": [],
   "source": [
    "run_query('''SELECT name,LENGTH(name) FROM movies;''')"
   ]
  },
  {
   "cell_type": "markdown",
   "id": "98d62275",
   "metadata": {},
   "source": [
    "## String Function - LENGTH\n",
    "```sql\n",
    "SELECT LENGTH(name) FROM movies;\n",
    "```"
   ]
  },
  {
   "cell_type": "code",
   "execution_count": null,
   "id": "4c136d92",
   "metadata": {},
   "outputs": [],
   "source": [
    "run_query('''SELECT LENGTH(name) FROM movies;''')"
   ]
  },
  {
   "cell_type": "markdown",
   "id": "57d952d6",
   "metadata": {},
   "source": [
    "## String Function - LENGTH\n",
    "```sql\n",
    "SELECT LENGTH(name) FROM movies;\n",
    "```"
   ]
  },
  {
   "cell_type": "code",
   "execution_count": null,
   "id": "f5905162",
   "metadata": {},
   "outputs": [],
   "source": [
    "run_query('''SELECT LENGTH(name) FROM movies;''')"
   ]
  },
  {
   "cell_type": "markdown",
   "id": "0d7d44ec",
   "metadata": {},
   "source": [
    "## General Query\n",
    "```sql\n",
    "SELECT name FROM movies\n",
    "```"
   ]
  },
  {
   "cell_type": "code",
   "execution_count": null,
   "id": "e7e9ed3c",
   "metadata": {},
   "outputs": [],
   "source": [
    "run_query('''SELECT name FROM movies''')"
   ]
  },
  {
   "cell_type": "markdown",
   "id": "cc881b62",
   "metadata": {},
   "source": [
    "## String Function - REVERSE\n",
    "```sql\n",
    "WHERE name = REVERSE(name);\n",
    "```"
   ]
  },
  {
   "cell_type": "code",
   "execution_count": null,
   "id": "56199465",
   "metadata": {},
   "outputs": [],
   "source": [
    "run_query('''WHERE name = REVERSE(name);''')"
   ]
  },
  {
   "cell_type": "markdown",
   "id": "baee70d0",
   "metadata": {},
   "source": [
    "## String Function - REPLACE\n",
    "```sql\n",
    "SELECT name,REPLACE(name,\"man\",\"Women\") FROM movies;\n",
    "```"
   ]
  },
  {
   "cell_type": "code",
   "execution_count": null,
   "id": "7cb56dc4",
   "metadata": {},
   "outputs": [],
   "source": [
    "run_query('''SELECT name,REPLACE(name,\"man\",\"Women\") FROM movies;''')"
   ]
  },
  {
   "cell_type": "markdown",
   "id": "0baa3c24",
   "metadata": {},
   "source": [
    "## String Function - SUBSTR\n",
    "```sql\n",
    "SELECT name,SUBSTR(name,-6) FROM movies;\n",
    "```"
   ]
  },
  {
   "cell_type": "code",
   "execution_count": null,
   "id": "1d477632",
   "metadata": {},
   "outputs": [],
   "source": [
    "run_query('''SELECT name,SUBSTR(name,-6) FROM movies;''')"
   ]
  },
  {
   "cell_type": "markdown",
   "id": "cabc7e24",
   "metadata": {},
   "source": [
    "## String Function - SUBSTR\n",
    "```sql\n",
    "SELECT name,SUBSTR(name,-6) FROM movies;\n",
    "```"
   ]
  },
  {
   "cell_type": "code",
   "execution_count": null,
   "id": "12429264",
   "metadata": {},
   "outputs": [],
   "source": [
    "run_query('''SELECT name,SUBSTR(name,-6) FROM movies;''')"
   ]
  },
  {
   "cell_type": "markdown",
   "id": "478f8cf7",
   "metadata": {},
   "source": [
    "## String Function - SUBSTR\n",
    "```sql\n",
    "SELECT name,SUBSTR(name,-6) FROM movies;\n",
    "```"
   ]
  },
  {
   "cell_type": "code",
   "execution_count": null,
   "id": "1287215b",
   "metadata": {},
   "outputs": [],
   "source": [
    "run_query('''SELECT name,SUBSTR(name,-6) FROM movies;''')"
   ]
  },
  {
   "cell_type": "markdown",
   "id": "a4acc9d1",
   "metadata": {},
   "source": [
    "## String Function - SUBSTR\n",
    "```sql\n",
    "SELECT name,SUBSTR(name,-1) FROM movies;\n",
    "```"
   ]
  },
  {
   "cell_type": "code",
   "execution_count": null,
   "id": "4d54169e",
   "metadata": {},
   "outputs": [],
   "source": [
    "run_query('''SELECT name,SUBSTR(name,-1) FROM movies;''')"
   ]
  },
  {
   "cell_type": "markdown",
   "id": "a78a28dc",
   "metadata": {},
   "source": [
    "## String Function - SUBSTR\n",
    "```sql\n",
    "SELECT name,SUBSTR(name,1,6) FROM movies;\n",
    "```"
   ]
  },
  {
   "cell_type": "code",
   "execution_count": null,
   "id": "a265d26c",
   "metadata": {},
   "outputs": [],
   "source": [
    "run_query('''SELECT name,SUBSTR(name,1,6) FROM movies;''')"
   ]
  },
  {
   "cell_type": "markdown",
   "id": "01251d3d",
   "metadata": {},
   "source": [
    "## String Function - SUBSTR\n",
    "```sql\n",
    "SELECT name,SUBSTR(name,1,5) FROM movies;\n",
    "```"
   ]
  },
  {
   "cell_type": "code",
   "execution_count": null,
   "id": "b980929a",
   "metadata": {},
   "outputs": [],
   "source": [
    "run_query('''SELECT name,SUBSTR(name,1,5) FROM movies;''')"
   ]
  },
  {
   "cell_type": "markdown",
   "id": "769d8c2f",
   "metadata": {},
   "source": [
    "## String Function - CONCAT\n",
    "```sql\n",
    "SELECT CONCAT_WS('----->',name,director,UPPER(star)) FROM movies;\n",
    "```"
   ]
  },
  {
   "cell_type": "code",
   "execution_count": null,
   "id": "0497c3e2",
   "metadata": {},
   "outputs": [],
   "source": [
    "run_query('''SELECT CONCAT_WS('----->',name,director,UPPER(star)) FROM movies;''')"
   ]
  },
  {
   "cell_type": "markdown",
   "id": "e205b0a1",
   "metadata": {},
   "source": [
    "## String Function - CONCAT\n",
    "```sql\n",
    "SELECT CONCAT(name,'----------->',director,'-------->',UPPER(star)) FROM movies;\n",
    "```"
   ]
  },
  {
   "cell_type": "code",
   "execution_count": null,
   "id": "fb1221b3",
   "metadata": {},
   "outputs": [],
   "source": [
    "run_query('''SELECT CONCAT(name,'----------->',director,'-------->',UPPER(star)) FROM movies;''')"
   ]
  },
  {
   "cell_type": "markdown",
   "id": "51120cbf",
   "metadata": {},
   "source": [
    "## String Function - CONCAT\n",
    "```sql\n",
    "SELECT CONCAT(name,'----------->',director,UPPER(star)) FROM movies;\n",
    "```"
   ]
  },
  {
   "cell_type": "code",
   "execution_count": null,
   "id": "9e64df31",
   "metadata": {},
   "outputs": [],
   "source": [
    "run_query('''SELECT CONCAT(name,'----------->',director,UPPER(star)) FROM movies;''')"
   ]
  },
  {
   "cell_type": "markdown",
   "id": "816cc32f",
   "metadata": {},
   "source": [
    "## String Function - CONCAT\n",
    "```sql\n",
    "SELECT CONCAT(name,'----------->',director) FROM movies;\n",
    "```"
   ]
  },
  {
   "cell_type": "code",
   "execution_count": null,
   "id": "54522f6b",
   "metadata": {},
   "outputs": [],
   "source": [
    "run_query('''SELECT CONCAT(name,'----------->',director) FROM movies;''')"
   ]
  },
  {
   "cell_type": "markdown",
   "id": "caddec4d",
   "metadata": {},
   "source": [
    "## String Function - CONCAT\n",
    "```sql\n",
    "SELECT CONCAT(name,'---->',director) FROM movies;\n",
    "```"
   ]
  },
  {
   "cell_type": "code",
   "execution_count": null,
   "id": "f36426e4",
   "metadata": {},
   "outputs": [],
   "source": [
    "run_query('''SELECT CONCAT(name,'---->',director) FROM movies;''')"
   ]
  },
  {
   "cell_type": "markdown",
   "id": "ae346b82",
   "metadata": {},
   "source": [
    "## String Function - CONCAT\n",
    "```sql\n",
    "SELECT CONCAT(name,'-- ',director) FROM movies;\n",
    "```"
   ]
  },
  {
   "cell_type": "code",
   "execution_count": null,
   "id": "456d2f47",
   "metadata": {},
   "outputs": [],
   "source": [
    "run_query('''SELECT CONCAT(name,'-- ',director) FROM movies;''')"
   ]
  },
  {
   "cell_type": "markdown",
   "id": "082ab9dc",
   "metadata": {},
   "source": [
    "## String Function - CONCAT\n",
    "```sql\n",
    "SELECT CONCAT(name,' ',director) FROM movies;\n",
    "```"
   ]
  },
  {
   "cell_type": "code",
   "execution_count": null,
   "id": "db5cb30c",
   "metadata": {},
   "outputs": [],
   "source": [
    "run_query('''SELECT CONCAT(name,' ',director) FROM movies;''')"
   ]
  },
  {
   "cell_type": "markdown",
   "id": "c8efa20b",
   "metadata": {},
   "source": [
    "## String Function - UPPER\n",
    "```sql\n",
    "SELECT name,UPPER(name),LOWER(name) FROM movies;\n",
    "```"
   ]
  },
  {
   "cell_type": "code",
   "execution_count": null,
   "id": "11a6abb6",
   "metadata": {},
   "outputs": [],
   "source": [
    "run_query('''SELECT name,UPPER(name),LOWER(name) FROM movies;''')"
   ]
  },
  {
   "cell_type": "markdown",
   "id": "053572f8",
   "metadata": {},
   "source": [
    "## General Query\n",
    "```sql\n",
    "SELECT name FROM movies\n",
    "```"
   ]
  },
  {
   "cell_type": "code",
   "execution_count": null,
   "id": "906f26eb",
   "metadata": {},
   "outputs": [],
   "source": [
    "run_query('''SELECT name FROM movies''')"
   ]
  },
  {
   "cell_type": "markdown",
   "id": "5d8664a0",
   "metadata": {},
   "source": [
    "## Pattern Matching - LIKE\n",
    "```sql\n",
    "WHERE name LIKE 'T%c';\n",
    "```"
   ]
  },
  {
   "cell_type": "code",
   "execution_count": null,
   "id": "38513289",
   "metadata": {},
   "outputs": [],
   "source": [
    "run_query('''WHERE name LIKE 'T%c';''')"
   ]
  },
  {
   "cell_type": "markdown",
   "id": "d347d3fc",
   "metadata": {},
   "source": [
    "## General Query\n",
    "```sql\n",
    "SELECT * FROM movies;\n",
    "```"
   ]
  },
  {
   "cell_type": "code",
   "execution_count": null,
   "id": "3d02a1f0",
   "metadata": {},
   "outputs": [],
   "source": [
    "run_query('''SELECT * FROM movies;''')"
   ]
  },
  {
   "cell_type": "markdown",
   "id": "a2d4932c",
   "metadata": {},
   "source": [
    "## General Query\n",
    "```sql\n",
    "SELECT name FROM movies\n",
    "```"
   ]
  },
  {
   "cell_type": "code",
   "execution_count": null,
   "id": "afe44f5a",
   "metadata": {},
   "outputs": [],
   "source": [
    "run_query('''SELECT name FROM movies''')"
   ]
  },
  {
   "cell_type": "markdown",
   "id": "9a6ada92",
   "metadata": {},
   "source": [
    "## Pattern Matching - LIKE\n",
    "```sql\n",
    "WHERE name LIKE 'T%c';\n",
    "```"
   ]
  },
  {
   "cell_type": "code",
   "execution_count": null,
   "id": "593af511",
   "metadata": {},
   "outputs": [],
   "source": [
    "run_query('''WHERE name LIKE 'T%c';''')"
   ]
  },
  {
   "cell_type": "markdown",
   "id": "a5627466",
   "metadata": {},
   "source": [
    "## General Query\n",
    "```sql\n",
    "SELECT name FROM movies\n",
    "```"
   ]
  },
  {
   "cell_type": "code",
   "execution_count": null,
   "id": "2be23770",
   "metadata": {},
   "outputs": [],
   "source": [
    "run_query('''SELECT name FROM movies''')"
   ]
  },
  {
   "cell_type": "markdown",
   "id": "a1254aae",
   "metadata": {},
   "source": [
    "## Pattern Matching - LIKE\n",
    "```sql\n",
    "WHERE name LIKE 'g%i';\n",
    "```"
   ]
  },
  {
   "cell_type": "code",
   "execution_count": null,
   "id": "8d6e88a0",
   "metadata": {},
   "outputs": [],
   "source": [
    "run_query('''WHERE name LIKE 'g%i';''')"
   ]
  },
  {
   "cell_type": "markdown",
   "id": "921c8f1b",
   "metadata": {},
   "source": [
    "## General Query\n",
    "```sql\n",
    "SELECT name FROM movies\n",
    "```"
   ]
  },
  {
   "cell_type": "code",
   "execution_count": null,
   "id": "9a519166",
   "metadata": {},
   "outputs": [],
   "source": [
    "run_query('''SELECT name FROM movies''')"
   ]
  },
  {
   "cell_type": "markdown",
   "id": "c2c9e39d",
   "metadata": {},
   "source": [
    "## Pattern Matching - LIKE\n",
    "```sql\n",
    "WHERE name LIKE 'A____';\n",
    "```"
   ]
  },
  {
   "cell_type": "code",
   "execution_count": null,
   "id": "93fefae9",
   "metadata": {},
   "outputs": [],
   "source": [
    "run_query('''WHERE name LIKE 'A____';''')"
   ]
  },
  {
   "cell_type": "markdown",
   "id": "10340a9d",
   "metadata": {},
   "source": [
    "## General Query\n",
    "```sql\n",
    "SELECT name FROM movies\n",
    "```"
   ]
  },
  {
   "cell_type": "code",
   "execution_count": null,
   "id": "9de967b0",
   "metadata": {},
   "outputs": [],
   "source": [
    "run_query('''SELECT name FROM movies''')"
   ]
  },
  {
   "cell_type": "markdown",
   "id": "868000d3",
   "metadata": {},
   "source": [
    "## Pattern Matching - LIKE\n",
    "```sql\n",
    "WHERE name LIKE '_____';\n",
    "```"
   ]
  },
  {
   "cell_type": "code",
   "execution_count": null,
   "id": "ae042817",
   "metadata": {},
   "outputs": [],
   "source": [
    "run_query('''WHERE name LIKE '_____';''')"
   ]
  }
 ],
 "metadata": {},
 "nbformat": 4,
 "nbformat_minor": 5
}