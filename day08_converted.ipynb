{
 "cells": [
  {
   "cell_type": "markdown",
   "id": "5321e2c8",
   "metadata": {},
   "source": [
    "# IPL Data Analysis (Converted from SQL to Python)\n",
    "This notebook contains Python (pandas) implementations of the SQL queries from `day 08.sql`. We use pandas to replicate window functions like RANK, CUMULATIVE SUM, and RUNNING AVERAGE."
   ]
  },
  {
   "cell_type": "code",
   "execution_count": null,
   "id": "7a2eb35a",
   "metadata": {},
   "outputs": [],
   "source": [
    "import pandas as pd\n",
    "\n",
    "# Load your IPL dataset (adjust path accordingly)\n",
    "# Example: ipl = pd.read_csv('ipl.csv')\n",
    "# For now, we'll assume the DataFrame 'ipl' is already loaded\n",
    "ipl.head()"
   ]
  },
  {
   "cell_type": "markdown",
   "id": "833c9b1d",
   "metadata": {},
   "source": [
    "## Question 1: Find the top batsmen for each team (equivalent to DENSE_RANK in SQL)"
   ]
  },
  {
   "cell_type": "code",
   "execution_count": null,
   "id": "ccafb8ac",
   "metadata": {},
   "outputs": [],
   "source": [
    "# Group by BattingTeam and batter to sum runs\n",
    "batsman_runs = ipl.groupby(['BattingTeam','batter'], as_index=False)['batsman_run'].sum()\n",
    "\n",
    "# Rank within each team\n",
    "batsman_runs['Rank_of_Batsman'] = batsman_runs.groupby('BattingTeam')['batsman_run'] \\\n",
    "    .rank(method='dense', ascending=False)\n",
    "\n",
    "# Filter top 5 batsmen per team\n",
    "top_batsmen = batsman_runs[batsman_runs['Rank_of_Batsman'] < 6] \\\n",
    "    .sort_values(['BattingTeam','Rank_of_Batsman'])\n",
    "\n",
    "top_batsmen"
   ]
  },
  {
   "cell_type": "markdown",
   "id": "dbb9ad82",
   "metadata": {},
   "source": [
    "## Question 2: V Kohli 20th, 50th, 150th match cumulative runs"
   ]
  },
  {
   "cell_type": "code",
   "execution_count": null,
   "id": "6433ab0d",
   "metadata": {},
   "outputs": [],
   "source": [
    "kohli = ipl[ipl['batter'] == 'V Kohli'].groupby('ID', as_index=False)['batsman_run'].sum()\n",
    "\n",
    "# Assign match number\\ kohli['Match_no'] = [f'Match-{i+1}' for i in range(len(kohli))]\n",
    "\n",
    "# Career cumulative sum\n",
    "kohli['Career_Run'] = kohli['batsman_run'].cumsum()\n",
    "\n",
    "kohli"
   ]
  },
  {
   "cell_type": "markdown",
   "id": "2db92f2f",
   "metadata": {},
   "source": [
    "## Question 3: V Kohli cumulative average after each match"
   ]
  },
  {
   "cell_type": "code",
   "execution_count": null,
   "id": "0fec76e2",
   "metadata": {},
   "outputs": [],
   "source": [
    "kohli['Avg_Run'] = kohli['batsman_run'].expanding().mean()\n",
    "kohli"
   ]
  },
  {
   "cell_type": "markdown",
   "id": "fba5507b",
   "metadata": {},
   "source": [
    "## Question 4: Running average of V Kohli (last 3 matches + current)"
   ]
  },
  {
   "cell_type": "code",
   "execution_count": null,
   "id": "a95466e9",
   "metadata": {},
   "outputs": [],
   "source": [
    "kohli['Running_Avg'] = kohli['batsman_run'].rolling(window=4, min_periods=1).mean()\n",
    "kohli"
   ]
  }
 ],
 "metadata": {},
 "nbformat": 4,
 "nbformat_minor": 5
}
