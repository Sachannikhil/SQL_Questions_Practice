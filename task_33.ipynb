{
  "nbformat": 4,
  "nbformat_minor": 0,
  "metadata": {
    "colab": {
      "provenance": []
    },
    "kernelspec": {
      "name": "python3",
      "display_name": "Python 3"
    },
    "language_info": {
      "name": "python"
    }
  },
  "cells": [
    {
      "cell_type": "markdown",
      "source": [
        "## Sleep Efficiency Dataset\n",
        "For questions 1-5, you can find the dataset and details about it from [here](https://www.kaggle.com/datasets/equilibriumm/sleep-efficiency).\n",
        "\n",
        "`ID`\n",
        "a unique identifier for each test subject\n",
        "\n",
        "`Age`\n",
        "age of the test subject\n",
        "\n",
        "`Gender`\n",
        "male or female\n",
        "\n",
        "`Bedtime`\n",
        "the time the test subject goes to bed each night\n",
        "\n",
        "`Wakeup time`\n",
        "the time the test subject wakes up each morning\n",
        "\n",
        "`Sleep duration`\n",
        "the total amount of time the test subject slept (in hours)\n",
        "\n",
        "`Sleep efficiency`\n",
        "a measure of the proportion of time in bed spent asleep\n",
        "\n",
        "`REM sleep percentage`\n",
        "the percentage of total sleep time spent in REM sleep\n",
        "\n",
        "`Deep sleep percentage`\n",
        "the percentage of total sleep time spent in deep sleep\n",
        "\n",
        "`Light sleep percentage`\n",
        "the percentage of total sleep time spent in light sleep\n",
        "\n",
        "`Awakenings`\n",
        "the number of times the test subject wakes up during the night\n",
        "\n",
        "`Caffeine consumption`\n",
        "the amount of caffeine consumed in the 24 hours prior to bedtime (in mg)\n",
        "\n",
        "`Alcohol consumption`\n",
        "the amount of alcohol consumed in the 24 hours prior to bedtime (in oz)\n",
        "\n",
        "`Smoking status`\n",
        "whether or not the test subject smokes\n",
        "\n",
        "`Exercise frequency`\n",
        "the number of times the test subject exercises each week\n",
        "\n"
      ],
      "metadata": {
        "id": "_GfKmtlR3Vcb"
      }
    },
    {
      "cell_type": "markdown",
      "source": [
        "### **`Problem 1:`**\n",
        "\n",
        "**The question is:**\n",
        "\n",
        "Find out the average sleep duration of top 15 male candidates who's sleep duration are equal to 7.5 or greater than 7.5.\n",
        "\n",
        "\n",
        "### `Problem 2:` Show avg deep sleep time for both gender. Round result at 2 decimal places.\n",
        "\n",
        "Note: sleep time and deep sleep percentage will give you, deep sleep time.\n",
        "\n",
        "\n",
        "### **`Problem 3:`**\n",
        "\n",
        "\n",
        "**The question is:**\n",
        "\n",
        "Find out the lowest 10th to 30th light sleep percentage records where deep sleep percentage values are between 25 to 45. Display age, light sleep percentage and deep sleep percentage columns only.\n",
        "\n",
        "\n",
        "\n",
        "### `Problem 4:` Group by on exercise frequency and smoking status and show average deep sleep time, average light sleep time and avg rem sleep time.\n",
        "\n",
        "* Note the differences in deep sleep time for smoking and non smoking status\n",
        "\n",
        "\n",
        "\n",
        "### `Problem 5:` Group By on Awekning and show AVG Caffeine consumption, AVG Deep sleep time and AVG Alcohol consumption only for people who do exercise atleast 3 days a week. Show result in descending order awekenings"
      ],
      "metadata": {
        "id": "AH94HTr93eW6"
      }
    },
    {
      "cell_type": "code",
      "source": [],
      "metadata": {
        "id": "Eq7CQ4K03vPC"
      },
      "execution_count": null,
      "outputs": []
    },
    {
      "cell_type": "markdown",
      "source": [
        "## Power Generation Dataset\n",
        "\n",
        "For this question, you can find the details as well as the dataset from [here](https://www.kaggle.com/datasets/arvindnagaonkar/power-generation-data)."
      ],
      "metadata": {
        "id": "Pn5NOwhR3wgZ"
      }
    },
    {
      "cell_type": "markdown",
      "source": [
        "### **`Problem 6:`**\n",
        "\n",
        "\n",
        "\n",
        "**The question is:**\n",
        "\n",
        "Display those power stations which have average 'Monitored Cap.(MW)' (display the values) between 1000 and 2000 and the number of occurance of the power stations (also display these values) are\n",
        "greater than 200. Also sort the result in ascending order.\n",
        "\n",
        "\n"
      ],
      "metadata": {
        "id": "1_K7ZXQG3zGJ"
      }
    },
    {
      "cell_type": "code",
      "source": [],
      "metadata": {
        "id": "Y_YgMTp03ygI"
      },
      "execution_count": null,
      "outputs": []
    },
    {
      "cell_type": "markdown",
      "source": [
        "## Avg Cost of Undergrad College by State(USA) Dataset-\n",
        "For this question, you can find the detailed dataset from [here](https://www.kaggle.com/datasets/kfoster150/avg-cost-of-undergrad-college-by-state).\n",
        "\n",
        "`Year`\n",
        "The Digest year this information comes from\n",
        "\n",
        "`State`\n",
        "The U.S. State\n",
        "\n",
        "`Type`\n",
        "Type of University, Private or Public and in-state or out-of-state. Private colleges charge the same for in/out of state\n",
        "\n",
        "`Length`\n",
        "Whether the college mainly offers 2-year (Associates) or 4-year (Bachelors) programs\n",
        "\n",
        "`Expense`\n",
        "The Expense being described, tuition/fees or on-campus living expenses\n",
        "\n",
        "`Value`\n",
        "The average cost for this particular expense, in USD ($)"
      ],
      "metadata": {
        "id": "S4vjoWDu36Br"
      }
    },
    {
      "cell_type": "markdown",
      "source": [
        "### **`Problem 7:`**\n",
        "\n",
        "\n",
        "\n",
        "**The question is:**\n",
        "\n",
        "Display top 10 lowest \"value\" State names of which the Year either belong to 2013 or 2017 or 2021 and type is 'Public In-State'. Also the number of occurance should be between 6 to 10. Display the average value upto 2 decimal places, state names and the occurance of the states.\n",
        "\n",
        "\n",
        "###`Problem -8:` Best state in terms of low education cost (Tution Fees) in 'Public' type university.\n",
        "\n",
        "\n",
        "\n",
        "### `Problem 9:` 2nd Costliest state for Private education in year 2021. Consider, Tution and Room fee both."
      ],
      "metadata": {
        "id": "VxlMC6yw3-B_"
      }
    },
    {
      "cell_type": "code",
      "source": [],
      "metadata": {
        "id": "12CBSFog39VC"
      },
      "execution_count": null,
      "outputs": []
    },
    {
      "cell_type": "markdown",
      "source": [
        "### **`Problem 10:`**\n",
        "\n",
        "For this, you can find the dataset from [here]().\n",
        "\n",
        "**The question is:**\n",
        "\n",
        "Display total and average values of Discount_offered for all the combinations of 'Mode_of_Shipment' (display this feature) and 'Warehouse_block' (display this feature also) for all male ('M') and 'High' Product_importance. Also sort the values in descending order of Mode_of_Shipment and ascending order of Warehouse_block."
      ],
      "metadata": {
        "id": "-gWZEkBb4JpJ"
      }
    },
    {
      "cell_type": "code",
      "source": [
        "# QUESTION 1)."
      ],
      "metadata": {
        "id": "Q7wXusCe4KN9"
      },
      "execution_count": 1,
      "outputs": []
    },
    {
      "cell_type": "code",
      "source": [
        "# SELECT ROUND(AVG(`Sleep duration`)) AS 'Avg_sleep'\n",
        "# FROM effect.sleep\n",
        "# WHERE Gender = 'Male' AND `Sleep duration` >=7.5\n",
        "# ORDER BY Avg_sleep DESC LIMIT 15"
      ],
      "metadata": {
        "id": "ctYFcPiSPvuM"
      },
      "execution_count": 2,
      "outputs": []
    },
    {
      "cell_type": "code",
      "source": [
        "# Question 2)."
      ],
      "metadata": {
        "id": "n8lIcLMsRizn"
      },
      "execution_count": 3,
      "outputs": []
    },
    {
      "cell_type": "code",
      "source": [
        "# SELECT Gender,ROUND(AVG(`Sleep duration`*(`Deep sleep percentage`/100)),2) AS 'Avg_sleep'\n",
        "# FROM effect.sleep\n",
        "# GROUP BY Gender"
      ],
      "metadata": {
        "id": "VvNEqJk-RlIQ"
      },
      "execution_count": 4,
      "outputs": []
    },
    {
      "cell_type": "code",
      "source": [
        "# Question 3)."
      ],
      "metadata": {
        "id": "kDQTM2S2UGju"
      },
      "execution_count": 5,
      "outputs": []
    },
    {
      "cell_type": "code",
      "source": [
        "# SELECT Age,`Deep sleep percentage`,`Light sleep percentage`\n",
        "# FROM effect.sleep\n",
        "# WHERE `Deep sleep percentage` BETWEEN 25 AND 45\n",
        "# ORDER BY `Light sleep percentage` LIMIT 10,20"
      ],
      "metadata": {
        "id": "qvAGxItrUIpS"
      },
      "execution_count": 6,
      "outputs": []
    },
    {
      "cell_type": "code",
      "source": [
        "# QUESTION 4)."
      ],
      "metadata": {
        "id": "Wo2HMLnYWdhs"
      },
      "execution_count": 7,
      "outputs": []
    },
    {
      "cell_type": "code",
      "source": [
        "# SELECT `Exercise frequency`,`Smoking status`,\n",
        "# ROUND(AVG(`Sleep duration` *(`Deep sleep percentage`/100))) AS 'Avg_Deepsleeptime',\n",
        "# ROUND(AVG(`Sleep duration` *(`Light sleep percentage`/100))) AS 'Avg_Light_sleeptime',\n",
        "# ROUND(AVG(`Sleep duration` *(`REM sleep percentage`/100))) AS 'Avg_Rem_sleeptime'\n",
        "# FROM effect.sleep\n",
        "# GROUP BY `Smoking status`,`Exercise frequency`"
      ],
      "metadata": {
        "id": "OlGzXdzaWfsQ"
      },
      "execution_count": 8,
      "outputs": []
    },
    {
      "cell_type": "code",
      "source": [
        "# QUESTION 5)."
      ],
      "metadata": {
        "id": "W8qHP1cIYzZb"
      },
      "execution_count": 9,
      "outputs": []
    },
    {
      "cell_type": "code",
      "source": [
        "# SELECT Awakenings,ROUND(AVG(`Caffeine consumption`)) AS 'Avg_Cafe.Intake',\n",
        "# ROUND(AVG(`Deep sleep percentage`)) AS 'Avg_Deep_per',\n",
        "# ROUND(AVG(`Alcohol consumption`)) AS 'Avg_Alcohal_Intake'\n",
        "# FROM effect.sleep\n",
        "# WHERE `Exercise frequency` >= 3\n",
        "# GROUP BY Awakenings\n",
        "# ORDER BY Awakenings DESC"
      ],
      "metadata": {
        "id": "1pSeHrerY1XL"
      },
      "execution_count": 10,
      "outputs": []
    },
    {
      "cell_type": "code",
      "source": [
        "# QUESTION 6)."
      ],
      "metadata": {
        "id": "JmKeLuj7af9b"
      },
      "execution_count": 11,
      "outputs": []
    },
    {
      "cell_type": "code",
      "source": [
        "# SELECT `Power Station`,\n",
        "# COUNT(*) AS 'Count',\n",
        "# ROUND(AVG(`Monitored Cap.(MW)`)) AS 'Avg_mw'\n",
        "# FROM effect.powergeneration\n",
        "# GROUP BY `Power Station`\n",
        "# HAVING (Count > 200) AND (Avg_mw BETWEEN 1000 AND 2000)\n",
        "# ORDER BY Avg_mw ASC\n"
      ],
      "metadata": {
        "id": "AfVhgXRkaiLF"
      },
      "execution_count": 12,
      "outputs": []
    },
    {
      "cell_type": "code",
      "source": [
        "# QUESTION 7)."
      ],
      "metadata": {
        "id": "w-uegsbEg1uq"
      },
      "execution_count": 13,
      "outputs": []
    },
    {
      "cell_type": "code",
      "source": [
        "# SELECT State,\n",
        "# ROUND(AVG(Value),2) AS 'Avg_Values',\n",
        "# COUNT(*) AS 'fre'\n",
        "# FROM year.under\n",
        "# WHERE Year IN(2013,2017,2021) AND Type = 'Public In-State'\n",
        "# GROUP BY State\n",
        "# HAVING fre BETWEEN 6 AND 10\n",
        "# ORDER BY Avg_Values ASC LIMIT 10"
      ],
      "metadata": {
        "id": "_JDKyHeQg4DL"
      },
      "execution_count": 14,
      "outputs": []
    },
    {
      "cell_type": "code",
      "source": [
        "# QUESTION 8)."
      ],
      "metadata": {
        "id": "kIXgW95imNTU"
      },
      "execution_count": 15,
      "outputs": []
    },
    {
      "cell_type": "code",
      "source": [
        "# SELECT State,ROUND(AVG(Value)) AS 'Avg_Value'\n",
        "# FROM year.under\n",
        "# WHERE TYPE LIKE '%Public%' AND Expense LIKE '%Tuition%'\n",
        "# GROUP BY State\n",
        "# ORDER BY Avg_Value ASC"
      ],
      "metadata": {
        "id": "fE6GwKZlmPou"
      },
      "execution_count": null,
      "outputs": []
    },
    {
      "cell_type": "code",
      "source": [
        "# QUESTION 9)."
      ],
      "metadata": {
        "id": "zDT1wQCKrdHZ"
      },
      "execution_count": 16,
      "outputs": []
    },
    {
      "cell_type": "code",
      "source": [
        "# SELECT State, ROUND(AVG(Value)) AS 'Avg_Value'\n",
        "# FROM year.under\n",
        "# WHERE Type LIKE '%Private%' AND Year = '2021'\n",
        "# GROUP BY State\n",
        "# ORDER BY Avg_Value DESC LIMIT 2\n"
      ],
      "metadata": {
        "id": "rm2QuAxCrfas"
      },
      "execution_count": 17,
      "outputs": []
    },
    {
      "cell_type": "code",
      "source": [
        "# QUESTION 10)."
      ],
      "metadata": {
        "id": "Y39pTn9-tz0E"
      },
      "execution_count": 18,
      "outputs": []
    },
    {
      "cell_type": "code",
      "source": [
        "# SELECT Mode_of_Shipment,Warehouse_block,\n",
        "# SUM(Discount_offered),AVG(Discount_offered)\n",
        "# FROM task.shipping\n",
        "# WHERE Gender = 'M' AND Product_importance = 'high'\n",
        "# GROUP BY Mode_of_Shipment,Warehouse_block\n",
        "# ORDER BY Mode_of_Shipment DESC,Warehouse_block ASC"
      ],
      "metadata": {
        "id": "SMXkmAX_t108"
      },
      "execution_count": null,
      "outputs": []
    }
  ]
}